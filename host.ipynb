{
 "cells": [
  {
   "cell_type": "markdown",
   "id": "d8728dbd-b542-4a4b-b3db-6cc8c9a18a36",
   "metadata": {},
   "source": [
    "# Run clip-retrieval back with fondant-ai/datacomp-small-clip index"
   ]
  },
  {
   "cell_type": "markdown",
   "id": "5708ba35-9ed3-4492-96aa-cd07f31cb8c0",
   "metadata": {},
   "source": [
    "### Create virtual environment"
   ]
  },
  {
   "cell_type": "code",
   "execution_count": 1,
   "id": "0f5908fa-fe50-432a-8475-e926d4e566be",
   "metadata": {},
   "outputs": [],
   "source": [
    "!python3 -m venv .env\n",
    "!source .env/bin/activate"
   ]
  },
  {
   "cell_type": "markdown",
   "id": "1812814f-6193-4d19-abd8-8a64c4c714d0",
   "metadata": {},
   "source": [
    "## Download index and metadata"
   ]
  },
  {
   "cell_type": "markdown",
   "id": "b0893795-2670-4ea4-9035-83eb2709ebfc",
   "metadata": {},
   "source": [
    "### Install requirements"
   ]
  },
  {
   "cell_type": "code",
   "execution_count": 2,
   "id": "1cdfd076-f2a4-4809-aaf6-44868662e6ec",
   "metadata": {},
   "outputs": [
    {
     "name": "stdout",
     "output_type": "stream",
     "text": [
      "Defaulting to user installation because normal site-packages is not writeable\n",
      "Requirement already satisfied: dask[dataframe] in /home/alex/.local/lib/python3.10/site-packages (2024.3.1)\n",
      "Requirement already satisfied: huggingface_hub in /home/alex/.local/lib/python3.10/site-packages (0.20.3)\n",
      "Requirement already satisfied: fsspec>=2021.09.0 in /home/alex/.local/lib/python3.10/site-packages (from dask[dataframe]) (2023.12.2)\n",
      "Requirement already satisfied: packaging>=20.0 in /home/alex/.local/lib/python3.10/site-packages (from dask[dataframe]) (23.2)\n",
      "Requirement already satisfied: cloudpickle>=1.5.0 in /home/alex/.local/lib/python3.10/site-packages (from dask[dataframe]) (3.0.0)\n",
      "Requirement already satisfied: pyyaml>=5.3.1 in /usr/lib/python3/dist-packages (from dask[dataframe]) (5.4.1)\n",
      "Requirement already satisfied: importlib-metadata>=4.13.0 in /home/alex/.local/lib/python3.10/site-packages (from dask[dataframe]) (6.11.0)\n",
      "Requirement already satisfied: click>=8.1 in /home/alex/.local/lib/python3.10/site-packages (from dask[dataframe]) (8.1.7)\n",
      "Requirement already satisfied: partd>=1.2.0 in /home/alex/.local/lib/python3.10/site-packages (from dask[dataframe]) (1.4.1)\n",
      "Requirement already satisfied: toolz>=0.10.0 in /home/alex/.local/lib/python3.10/site-packages (from dask[dataframe]) (0.12.1)\n",
      "Requirement already satisfied: dask-expr<1.1,>=1.0 in /home/alex/.local/lib/python3.10/site-packages (from dask[dataframe]) (1.0.5)\n",
      "Requirement already satisfied: pandas>=1.3 in /home/alex/.local/lib/python3.10/site-packages (from dask[dataframe]) (2.2.1)\n",
      "Requirement already satisfied: tqdm>=4.42.1 in /home/alex/.local/lib/python3.10/site-packages (from huggingface_hub) (4.66.2)\n",
      "Requirement already satisfied: typing-extensions>=3.7.4.3 in /home/alex/.local/lib/python3.10/site-packages (from huggingface_hub) (4.9.0)\n",
      "Requirement already satisfied: filelock in /usr/lib/python3/dist-packages (from huggingface_hub) (3.6.0)\n",
      "Requirement already satisfied: requests in /home/alex/.local/lib/python3.10/site-packages (from huggingface_hub) (2.31.0)\n",
      "Requirement already satisfied: pyarrow>=7.0.0 in /home/alex/.local/lib/python3.10/site-packages (from dask-expr<1.1,>=1.0->dask[dataframe]) (14.0.2)\n",
      "Requirement already satisfied: zipp>=0.5 in /usr/lib/python3/dist-packages (from importlib-metadata>=4.13.0->dask[dataframe]) (1.0.0)\n",
      "Requirement already satisfied: tzdata>=2022.7 in /home/alex/.local/lib/python3.10/site-packages (from pandas>=1.3->dask[dataframe]) (2024.1)\n",
      "Requirement already satisfied: numpy<2,>=1.22.4 in /home/alex/.local/lib/python3.10/site-packages (from pandas>=1.3->dask[dataframe]) (1.26.4)\n",
      "Requirement already satisfied: pytz>=2020.1 in /usr/lib/python3/dist-packages (from pandas>=1.3->dask[dataframe]) (2022.1)\n",
      "Requirement already satisfied: python-dateutil>=2.8.2 in /home/alex/.local/lib/python3.10/site-packages (from pandas>=1.3->dask[dataframe]) (2.8.2)\n",
      "Requirement already satisfied: locket in /home/alex/.local/lib/python3.10/site-packages (from partd>=1.2.0->dask[dataframe]) (1.0.0)\n",
      "Requirement already satisfied: idna<4,>=2.5 in /usr/lib/python3/dist-packages (from requests->huggingface_hub) (3.3)\n",
      "Requirement already satisfied: urllib3<3,>=1.21.1 in /home/alex/.local/lib/python3.10/site-packages (from requests->huggingface_hub) (1.26.18)\n",
      "Requirement already satisfied: charset-normalizer<4,>=2 in /home/alex/.local/lib/python3.10/site-packages (from requests->huggingface_hub) (3.3.2)\n",
      "Requirement already satisfied: certifi>=2017.4.17 in /home/alex/.local/lib/python3.10/site-packages (from requests->huggingface_hub) (2023.7.22)\n",
      "Requirement already satisfied: six>=1.5 in /usr/lib/python3/dist-packages (from python-dateutil>=2.8.2->pandas>=1.3->dask[dataframe]) (1.16.0)\n"
     ]
    }
   ],
   "source": [
    "!pip install dask[dataframe] huggingface_hub"
   ]
  },
  {
   "cell_type": "markdown",
   "id": "41bd6c70-fbec-4e83-93bd-d2887ab48e99",
   "metadata": {},
   "source": [
    "### Create the index folder"
   ]
  },
  {
   "cell_type": "code",
   "execution_count": 3,
   "id": "fec09d8d-3aa7-43ea-b356-db93ecd5384c",
   "metadata": {},
   "outputs": [],
   "source": [
    "!mkdir datacomp_small"
   ]
  },
  {
   "cell_type": "markdown",
   "id": "64117004-eb0e-4b07-a0f0-a7fffb9552d8",
   "metadata": {},
   "source": [
    "### Download the index"
   ]
  },
  {
   "cell_type": "code",
   "execution_count": 4,
   "id": "b4806e99-805f-4d25-b69d-0799fee7bf76",
   "metadata": {},
   "outputs": [
    {
     "name": "stdout",
     "output_type": "stream",
     "text": [
      "datacomp_small/imag 100%[===================>]   2.33G  97.9MB/s    in 24s     \n"
     ]
    }
   ],
   "source": [
    "!wget -O datacomp_small/image.index \"https://huggingface.co/datasets/fondant-ai/datacomp-small-clip/resolve/main/faiss?download=true\" -q --show-progress"
   ]
  },
  {
   "cell_type": "markdown",
   "id": "429ea232-95da-4c48-898f-3170a1bc74e4",
   "metadata": {},
   "source": [
    "### Download the metadata"
   ]
  },
  {
   "cell_type": "code",
   "execution_count": 5,
   "id": "61d44529-5609-4612-852c-d18cf4560075",
   "metadata": {},
   "outputs": [
    {
     "name": "stderr",
     "output_type": "stream",
     "text": [
      "/home/alex/.local/lib/python3.10/site-packages/tqdm/auto.py:21: TqdmWarning: IProgress not found. Please update jupyter and ipywidgets. See https://ipywidgets.readthedocs.io/en/stable/user_install.html\n",
      "  from .autonotebook import tqdm as notebook_tqdm\n"
     ]
    },
    {
     "name": "stdout",
     "output_type": "stream",
     "text": [
      "[                                        ] | 0% Completed | 3.04 s ms"
     ]
    },
    {
     "name": "stderr",
     "output_type": "stream",
     "text": [
      "'(ProtocolError('Connection aborted.', ConnectionResetError(104, 'Connection reset by peer')), '(Request ID: fc4d9ed6-3e35-4d93-8486-7da2b9f2320d)')' thrown while requesting GET https://huggingface.co/datasets/fondant-ai/datacomp-small-clip/resolve/main/id_mapping/part-00000002-d50665c4-da02-11ee-9c19-42010a0a0a09.parquet\n",
      "Retrying in 1s [Retry 1/5].\n"
     ]
    },
    {
     "name": "stdout",
     "output_type": "stream",
     "text": [
      "[########################################] | 100% Completed | 9.71 s\n"
     ]
    }
   ],
   "source": [
    "import dask.dataframe as dd\n",
    "from dask.diagnostics import ProgressBar\n",
    "\n",
    "ddf = dd.read_parquet(\"hf://datasets/fondant-ai/datacomp-small-clip/id_mapping\")\n",
    "ddf = ddf.rename(columns={\"image_path\": \"url\"})\n",
    "ddf = ddf.repartition(npartitions=1)\n",
    "\n",
    "with ProgressBar():\n",
    "    ddf.to_parquet(\"datacomp_small/metadata\")"
   ]
  },
  {
   "cell_type": "markdown",
   "id": "872de5af-5c66-4249-a5db-aa028f5bca58",
   "metadata": {},
   "source": [
    "## Run clip-retrieval backend"
   ]
  },
  {
   "cell_type": "markdown",
   "id": "302b6927-45b8-4977-926e-8d3f709d6e60",
   "metadata": {},
   "source": [
    "### Install requirements"
   ]
  },
  {
   "cell_type": "code",
   "execution_count": 6,
   "id": "b4d1729f-4812-4a7d-9945-16615ecbd51f",
   "metadata": {},
   "outputs": [
    {
     "name": "stdout",
     "output_type": "stream",
     "text": [
      "Defaulting to user installation because normal site-packages is not writeable\n",
      "Requirement already satisfied: clip-retrieval in /home/alex/.local/lib/python3.10/site-packages (2.44.0)\n",
      "Requirement already satisfied: flask-restful<1,>=0.3.9 in /home/alex/.local/lib/python3.10/site-packages (from clip-retrieval) (0.3.10)\n",
      "Requirement already satisfied: faiss-cpu<2,>=1.7.2 in /home/alex/.local/lib/python3.10/site-packages (from clip-retrieval) (1.8.0)\n",
      "Requirement already satisfied: h5py<4,>=3.1.0 in /home/alex/.local/lib/python3.10/site-packages (from clip-retrieval) (3.10.0)\n",
      "Requirement already satisfied: multilingual-clip<2,>=1.0.10 in /home/alex/.local/lib/python3.10/site-packages (from clip-retrieval) (1.0.10)\n",
      "Requirement already satisfied: sentence-transformers<3,>=2.2.0 in /home/alex/.local/lib/python3.10/site-packages (from clip-retrieval) (2.3.1)\n",
      "Requirement already satisfied: img2dataset<2,>=1.25.5 in /home/alex/.local/lib/python3.10/site-packages (from clip-retrieval) (1.45.0)\n",
      "Requirement already satisfied: flask-cors<5,>=4.0.0 in /home/alex/.local/lib/python3.10/site-packages (from clip-retrieval) (4.0.0)\n",
      "Requirement already satisfied: webdataset<0.3,>=0.2 in /home/alex/.local/lib/python3.10/site-packages (from clip-retrieval) (0.2.86)\n",
      "Requirement already satisfied: fire<0.6.0,>=0.4.0 in /home/alex/.local/lib/python3.10/site-packages (from clip-retrieval) (0.5.0)\n",
      "Requirement already satisfied: all-clip<2 in /home/alex/.local/lib/python3.10/site-packages (from clip-retrieval) (1.2.0)\n",
      "Requirement already satisfied: clip-anytorch<3,>=2.5.0 in /home/alex/.local/lib/python3.10/site-packages (from clip-retrieval) (2.6.0)\n",
      "Requirement already satisfied: torch<3,>=1.7.1 in /home/alex/.local/lib/python3.10/site-packages (from clip-retrieval) (2.2.0+cu118)\n",
      "Requirement already satisfied: aiohttp<4,>=3.8.1 in /home/alex/.local/lib/python3.10/site-packages (from clip-retrieval) (3.9.3)\n",
      "Requirement already satisfied: urllib3<2 in /home/alex/.local/lib/python3.10/site-packages (from clip-retrieval) (1.26.18)\n",
      "Requirement already satisfied: torchvision<2,>=0.10.1 in /home/alex/.local/lib/python3.10/site-packages (from clip-retrieval) (0.17.0+cu118)\n",
      "Requirement already satisfied: numpy<2,>=1.19.5 in /home/alex/.local/lib/python3.10/site-packages (from clip-retrieval) (1.26.4)\n",
      "Requirement already satisfied: autofaiss<3,>=2.9.6 in /home/alex/.local/lib/python3.10/site-packages (from clip-retrieval) (2.17.0)\n",
      "Requirement already satisfied: prometheus-client<1,>=0.13.1 in /home/alex/.local/lib/python3.10/site-packages (from clip-retrieval) (0.20.0)\n",
      "Requirement already satisfied: fsspec in /home/alex/.local/lib/python3.10/site-packages (from clip-retrieval) (2023.12.2)\n",
      "Requirement already satisfied: requests<3,>=2.27.1 in /home/alex/.local/lib/python3.10/site-packages (from clip-retrieval) (2.31.0)\n",
      "Requirement already satisfied: tqdm<5,>=4.62.3 in /home/alex/.local/lib/python3.10/site-packages (from clip-retrieval) (4.66.2)\n",
      "Requirement already satisfied: transformers in /home/alex/.local/lib/python3.10/site-packages (from clip-retrieval) (4.39.2)\n",
      "Requirement already satisfied: pyarrow<15,>=6.0.1 in /home/alex/.local/lib/python3.10/site-packages (from clip-retrieval) (14.0.2)\n",
      "Requirement already satisfied: wandb<0.17,>=0.12.0 in /home/alex/.local/lib/python3.10/site-packages (from clip-retrieval) (0.16.5)\n",
      "Requirement already satisfied: flask<4,>=3.0.0 in /home/alex/.local/lib/python3.10/site-packages (from clip-retrieval) (3.0.1)\n",
      "Requirement already satisfied: pandas<3,>=1.1.5 in /home/alex/.local/lib/python3.10/site-packages (from clip-retrieval) (2.2.1)\n",
      "Requirement already satisfied: scipy<1.12 in /home/alex/.local/lib/python3.10/site-packages (from clip-retrieval) (1.11.4)\n",
      "Requirement already satisfied: open-clip-torch<3.0.0,>=2.0.0 in /home/alex/.local/lib/python3.10/site-packages (from clip-retrieval) (2.24.0)\n",
      "Requirement already satisfied: async-timeout<5.0,>=4.0 in /usr/lib/python3/dist-packages (from aiohttp<4,>=3.8.1->clip-retrieval) (4.0.1)\n",
      "Requirement already satisfied: multidict<7.0,>=4.5 in /home/alex/.local/lib/python3.10/site-packages (from aiohttp<4,>=3.8.1->clip-retrieval) (6.0.5)\n",
      "Requirement already satisfied: aiosignal>=1.1.2 in /home/alex/.local/lib/python3.10/site-packages (from aiohttp<4,>=3.8.1->clip-retrieval) (1.3.1)\n",
      "Requirement already satisfied: frozenlist>=1.1.1 in /home/alex/.local/lib/python3.10/site-packages (from aiohttp<4,>=3.8.1->clip-retrieval) (1.4.1)\n",
      "Requirement already satisfied: yarl<2.0,>=1.0 in /home/alex/.local/lib/python3.10/site-packages (from aiohttp<4,>=3.8.1->clip-retrieval) (1.9.4)\n",
      "Requirement already satisfied: attrs>=17.3.0 in /home/alex/.local/lib/python3.10/site-packages (from aiohttp<4,>=3.8.1->clip-retrieval) (23.2.0)\n",
      "Requirement already satisfied: embedding-reader<2,>=1.5.1 in /home/alex/.local/lib/python3.10/site-packages (from autofaiss<3,>=2.9.6->clip-retrieval) (1.7.0)\n",
      "Requirement already satisfied: ftfy in /home/alex/.local/lib/python3.10/site-packages (from clip-anytorch<3,>=2.5.0->clip-retrieval) (6.2.0)\n",
      "Requirement already satisfied: regex in /home/alex/.local/lib/python3.10/site-packages (from clip-anytorch<3,>=2.5.0->clip-retrieval) (2023.12.25)\n",
      "Requirement already satisfied: six in /usr/lib/python3/dist-packages (from fire<0.6.0,>=0.4.0->clip-retrieval) (1.16.0)\n",
      "Requirement already satisfied: termcolor in /home/alex/.local/lib/python3.10/site-packages (from fire<0.6.0,>=0.4.0->clip-retrieval) (2.4.0)\n",
      "Requirement already satisfied: itsdangerous>=2.1.2 in /home/alex/.local/lib/python3.10/site-packages (from flask<4,>=3.0.0->clip-retrieval) (2.1.2)\n",
      "Requirement already satisfied: Jinja2>=3.1.2 in /home/alex/.local/lib/python3.10/site-packages (from flask<4,>=3.0.0->clip-retrieval) (3.1.3)\n",
      "Requirement already satisfied: Werkzeug>=3.0.0 in /home/alex/.local/lib/python3.10/site-packages (from flask<4,>=3.0.0->clip-retrieval) (3.0.1)\n",
      "Requirement already satisfied: click>=8.1.3 in /home/alex/.local/lib/python3.10/site-packages (from flask<4,>=3.0.0->clip-retrieval) (8.1.7)\n",
      "Requirement already satisfied: blinker>=1.6.2 in /home/alex/.local/lib/python3.10/site-packages (from flask<4,>=3.0.0->clip-retrieval) (1.7.0)\n",
      "Requirement already satisfied: pytz in /usr/lib/python3/dist-packages (from flask-restful<1,>=0.3.9->clip-retrieval) (2022.1)\n",
      "Requirement already satisfied: aniso8601>=0.82 in /home/alex/.local/lib/python3.10/site-packages (from flask-restful<1,>=0.3.9->clip-retrieval) (9.0.1)\n",
      "Requirement already satisfied: exifread-nocycle<4,>=3.0.1 in /home/alex/.local/lib/python3.10/site-packages (from img2dataset<2,>=1.25.5->clip-retrieval) (3.0.1)\n",
      "Requirement already satisfied: albumentations<2,>=1.1.0 in /home/alex/.local/lib/python3.10/site-packages (from img2dataset<2,>=1.25.5->clip-retrieval) (1.4.2)\n",
      "Requirement already satisfied: opencv-python-headless<5,>=4.5.5.62 in /home/alex/.local/lib/python3.10/site-packages (from img2dataset<2,>=1.25.5->clip-retrieval) (4.9.0.80)\n",
      "Requirement already satisfied: dataclasses<1.0.0,>=0.6 in /home/alex/.local/lib/python3.10/site-packages (from img2dataset<2,>=1.25.5->clip-retrieval) (0.6)\n",
      "Requirement already satisfied: timm in /home/alex/.local/lib/python3.10/site-packages (from open-clip-torch<3.0.0,>=2.0.0->clip-retrieval) (0.9.16)\n",
      "Requirement already satisfied: protobuf in /home/alex/.local/lib/python3.10/site-packages (from open-clip-torch<3.0.0,>=2.0.0->clip-retrieval) (4.23.4)\n",
      "Requirement already satisfied: huggingface-hub in /home/alex/.local/lib/python3.10/site-packages (from open-clip-torch<3.0.0,>=2.0.0->clip-retrieval) (0.20.3)\n",
      "Requirement already satisfied: sentencepiece in /home/alex/.local/lib/python3.10/site-packages (from open-clip-torch<3.0.0,>=2.0.0->clip-retrieval) (0.1.99)\n",
      "Requirement already satisfied: tzdata>=2022.7 in /home/alex/.local/lib/python3.10/site-packages (from pandas<3,>=1.1.5->clip-retrieval) (2024.1)\n",
      "Requirement already satisfied: python-dateutil>=2.8.2 in /home/alex/.local/lib/python3.10/site-packages (from pandas<3,>=1.1.5->clip-retrieval) (2.8.2)\n",
      "Requirement already satisfied: charset-normalizer<4,>=2 in /home/alex/.local/lib/python3.10/site-packages (from requests<3,>=2.27.1->clip-retrieval) (3.3.2)\n",
      "Requirement already satisfied: certifi>=2017.4.17 in /home/alex/.local/lib/python3.10/site-packages (from requests<3,>=2.27.1->clip-retrieval) (2023.7.22)\n",
      "Requirement already satisfied: idna<4,>=2.5 in /usr/lib/python3/dist-packages (from requests<3,>=2.27.1->clip-retrieval) (3.3)\n",
      "Requirement already satisfied: nltk in /home/alex/.local/lib/python3.10/site-packages (from sentence-transformers<3,>=2.2.0->clip-retrieval) (3.8.1)\n",
      "Requirement already satisfied: scikit-learn in /home/alex/.local/lib/python3.10/site-packages (from sentence-transformers<3,>=2.2.0->clip-retrieval) (1.4.0)\n",
      "Requirement already satisfied: Pillow in /usr/lib/python3/dist-packages (from sentence-transformers<3,>=2.2.0->clip-retrieval) (9.0.1)\n",
      "Requirement already satisfied: nvidia-curand-cu11==10.3.0.86 in /home/alex/.local/lib/python3.10/site-packages (from torch<3,>=1.7.1->clip-retrieval) (10.3.0.86)\n",
      "Requirement already satisfied: networkx in /home/alex/.local/lib/python3.10/site-packages (from torch<3,>=1.7.1->clip-retrieval) (2.8.8)\n",
      "Requirement already satisfied: nvidia-nvtx-cu11==11.8.86 in /home/alex/.local/lib/python3.10/site-packages (from torch<3,>=1.7.1->clip-retrieval) (11.8.86)\n",
      "Requirement already satisfied: triton==2.2.0 in /home/alex/.local/lib/python3.10/site-packages (from torch<3,>=1.7.1->clip-retrieval) (2.2.0)\n",
      "Requirement already satisfied: nvidia-cuda-nvrtc-cu11==11.8.89 in /home/alex/.local/lib/python3.10/site-packages (from torch<3,>=1.7.1->clip-retrieval) (11.8.89)\n",
      "Requirement already satisfied: filelock in /usr/lib/python3/dist-packages (from torch<3,>=1.7.1->clip-retrieval) (3.6.0)\n",
      "Requirement already satisfied: nvidia-nccl-cu11==2.19.3 in /home/alex/.local/lib/python3.10/site-packages (from torch<3,>=1.7.1->clip-retrieval) (2.19.3)\n",
      "Requirement already satisfied: nvidia-cublas-cu11==11.11.3.6 in /home/alex/.local/lib/python3.10/site-packages (from torch<3,>=1.7.1->clip-retrieval) (11.11.3.6)\n",
      "Requirement already satisfied: nvidia-cudnn-cu11==8.7.0.84 in /home/alex/.local/lib/python3.10/site-packages (from torch<3,>=1.7.1->clip-retrieval) (8.7.0.84)\n",
      "Requirement already satisfied: nvidia-cusparse-cu11==11.7.5.86 in /home/alex/.local/lib/python3.10/site-packages (from torch<3,>=1.7.1->clip-retrieval) (11.7.5.86)\n",
      "Requirement already satisfied: nvidia-cusolver-cu11==11.4.1.48 in /home/alex/.local/lib/python3.10/site-packages (from torch<3,>=1.7.1->clip-retrieval) (11.4.1.48)\n",
      "Requirement already satisfied: nvidia-cufft-cu11==10.9.0.58 in /home/alex/.local/lib/python3.10/site-packages (from torch<3,>=1.7.1->clip-retrieval) (10.9.0.58)\n",
      "Requirement already satisfied: typing-extensions>=4.8.0 in /home/alex/.local/lib/python3.10/site-packages (from torch<3,>=1.7.1->clip-retrieval) (4.9.0)\n",
      "Requirement already satisfied: nvidia-cuda-runtime-cu11==11.8.89 in /home/alex/.local/lib/python3.10/site-packages (from torch<3,>=1.7.1->clip-retrieval) (11.8.89)\n",
      "Requirement already satisfied: sympy in /home/alex/.local/lib/python3.10/site-packages (from torch<3,>=1.7.1->clip-retrieval) (1.12)\n",
      "Requirement already satisfied: nvidia-cuda-cupti-cu11==11.8.87 in /home/alex/.local/lib/python3.10/site-packages (from torch<3,>=1.7.1->clip-retrieval) (11.8.87)\n",
      "Requirement already satisfied: packaging>=20.0 in /home/alex/.local/lib/python3.10/site-packages (from transformers->clip-retrieval) (23.2)\n",
      "Requirement already satisfied: tokenizers<0.19,>=0.14 in /home/alex/.local/lib/python3.10/site-packages (from transformers->clip-retrieval) (0.15.2)\n",
      "Requirement already satisfied: pyyaml>=5.1 in /usr/lib/python3/dist-packages (from transformers->clip-retrieval) (5.4.1)\n",
      "Requirement already satisfied: safetensors>=0.4.1 in /home/alex/.local/lib/python3.10/site-packages (from transformers->clip-retrieval) (0.4.2)\n",
      "Requirement already satisfied: psutil>=5.0.0 in /usr/lib/python3/dist-packages (from wandb<0.17,>=0.12.0->clip-retrieval) (5.9.0)\n",
      "Requirement already satisfied: setproctitle in /usr/lib/python3/dist-packages (from wandb<0.17,>=0.12.0->clip-retrieval) (1.2.2)\n",
      "Requirement already satisfied: setuptools in /usr/lib/python3/dist-packages (from wandb<0.17,>=0.12.0->clip-retrieval) (59.6.0)\n",
      "Requirement already satisfied: GitPython!=3.1.29,>=1.0.0 in /home/alex/.local/lib/python3.10/site-packages (from wandb<0.17,>=0.12.0->clip-retrieval) (3.1.41)\n",
      "Requirement already satisfied: docker-pycreds>=0.4.0 in /home/alex/.local/lib/python3.10/site-packages (from wandb<0.17,>=0.12.0->clip-retrieval) (0.4.0)\n",
      "Requirement already satisfied: appdirs>=1.4.3 in /home/alex/.local/lib/python3.10/site-packages (from wandb<0.17,>=0.12.0->clip-retrieval) (1.4.4)\n",
      "Requirement already satisfied: sentry-sdk>=1.0.0 in /home/alex/.local/lib/python3.10/site-packages (from wandb<0.17,>=0.12.0->clip-retrieval) (1.44.0)\n",
      "Requirement already satisfied: braceexpand in /home/alex/.local/lib/python3.10/site-packages (from webdataset<0.3,>=0.2->clip-retrieval) (0.1.7)\n",
      "Requirement already satisfied: scikit-image>=0.21.0 in /home/alex/.local/lib/python3.10/site-packages (from albumentations<2,>=1.1.0->img2dataset<2,>=1.25.5->clip-retrieval) (0.22.0)\n",
      "Requirement already satisfied: gitdb<5,>=4.0.1 in /home/alex/.local/lib/python3.10/site-packages (from GitPython!=3.1.29,>=1.0.0->wandb<0.17,>=0.12.0->clip-retrieval) (4.0.11)\n",
      "Requirement already satisfied: MarkupSafe>=2.0 in /home/alex/.local/lib/python3.10/site-packages (from Jinja2>=3.1.2->flask<4,>=3.0.0->clip-retrieval) (2.1.5)\n",
      "Requirement already satisfied: joblib>=1.2.0 in /home/alex/.local/lib/python3.10/site-packages (from scikit-learn->sentence-transformers<3,>=2.2.0->clip-retrieval) (1.3.2)\n",
      "Requirement already satisfied: threadpoolctl>=2.0.0 in /home/alex/.local/lib/python3.10/site-packages (from scikit-learn->sentence-transformers<3,>=2.2.0->clip-retrieval) (3.2.0)\n",
      "Requirement already satisfied: wcwidth<0.3.0,>=0.2.12 in /home/alex/.local/lib/python3.10/site-packages (from ftfy->clip-anytorch<3,>=2.5.0->clip-retrieval) (0.2.13)\n",
      "Requirement already satisfied: mpmath>=0.19 in /home/alex/.local/lib/python3.10/site-packages (from sympy->torch<3,>=1.7.1->clip-retrieval) (1.3.0)\n",
      "Requirement already satisfied: smmap<6,>=3.0.1 in /home/alex/.local/lib/python3.10/site-packages (from gitdb<5,>=4.0.1->GitPython!=3.1.29,>=1.0.0->wandb<0.17,>=0.12.0->clip-retrieval) (5.0.1)\n",
      "Requirement already satisfied: tifffile>=2022.8.12 in /home/alex/.local/lib/python3.10/site-packages (from scikit-image>=0.21.0->albumentations<2,>=1.1.0->img2dataset<2,>=1.25.5->clip-retrieval) (2024.2.12)\n",
      "Requirement already satisfied: lazy_loader>=0.3 in /home/alex/.local/lib/python3.10/site-packages (from scikit-image>=0.21.0->albumentations<2,>=1.1.0->img2dataset<2,>=1.25.5->clip-retrieval) (0.3)\n",
      "Requirement already satisfied: imageio>=2.27 in /home/alex/.local/lib/python3.10/site-packages (from scikit-image>=0.21.0->albumentations<2,>=1.1.0->img2dataset<2,>=1.25.5->clip-retrieval) (2.34.0)\n"
     ]
    }
   ],
   "source": [
    "!pip install clip-retrieval"
   ]
  },
  {
   "cell_type": "code",
   "execution_count": 7,
   "id": "580cc9e6-1a2b-4432-98ac-c1e20664bfe1",
   "metadata": {},
   "outputs": [
    {
     "name": "stdout",
     "output_type": "stream",
     "text": [
      "Overwriting indices.json\n"
     ]
    }
   ],
   "source": [
    "%%writefile indices.json\n",
    "{\n",
    "    \"fondant_datacomp_small\": {\n",
    "        \"indice_folder\": \"datacomp_small\",\n",
    "        \"columns_to_return\": [\"url\"],\n",
    "        \"clip_model\": \"open_clip:ViT-B-32/laion2b_s34b_b79k\",\n",
    "        \"enable_mclip_option\": false,\n",
    "        \"provide_aesthetic_embeddings\": false\n",
    "    }\n",
    "}"
   ]
  },
  {
   "cell_type": "code",
   "execution_count": 8,
   "id": "9fbf3533-3864-4abb-86a0-d5816e4deb14",
   "metadata": {},
   "outputs": [
    {
     "name": "stdout",
     "output_type": "stream",
     "text": [
      "starting boot of clip back\n",
      "warming up with batch size 1 on cuda\n",
      "done warming up in 5.622560501098633s\n",
      "indices loaded\n",
      " * Serving Flask app 'clip_retrieval.clip_back'\n",
      " * Debug mode: off\n",
      "INFO:werkzeug:\u001b[31m\u001b[1mWARNING: This is a development server. Do not use it in a production deployment. Use a production WSGI server instead.\u001b[0m\n",
      " * Running on all addresses (0.0.0.0)\n",
      " * Running on http://127.0.0.1:1234\n",
      " * Running on http://192.168.1.181:1234\n",
      "INFO:werkzeug:\u001b[33mPress CTRL+C to quit\u001b[0m\n",
      "INFO:werkzeug:127.0.0.1 - - [29/Mar/2024 11:44:14] \"POST /knn-service HTTP/1.1\" 200 -\n",
      "INFO:werkzeug:127.0.0.1 - - [29/Mar/2024 11:45:03] \"POST /knn-service HTTP/1.1\" 200 -\n",
      "INFO:werkzeug:127.0.0.1 - - [29/Mar/2024 11:48:55] \"POST /knn-service HTTP/1.1\" 200 -\n",
      "INFO:werkzeug:127.0.0.1 - - [29/Mar/2024 11:49:25] \"POST /knn-service HTTP/1.1\" 200 -\n",
      "INFO:werkzeug:127.0.0.1 - - [29/Mar/2024 11:50:15] \"POST /knn-service HTTP/1.1\" 200 -\n",
      "INFO:werkzeug:127.0.0.1 - - [29/Mar/2024 11:50:29] \"POST /knn-service HTTP/1.1\" 200 -\n",
      "INFO:werkzeug:127.0.0.1 - - [29/Mar/2024 11:50:46] \"POST /knn-service HTTP/1.1\" 200 -\n",
      "INFO:werkzeug:127.0.0.1 - - [29/Mar/2024 11:51:17] \"POST /knn-service HTTP/1.1\" 200 -\n",
      "INFO:werkzeug:127.0.0.1 - - [29/Mar/2024 11:51:27] \"POST /knn-service HTTP/1.1\" 200 -\n",
      "INFO:werkzeug:127.0.0.1 - - [29/Mar/2024 11:54:10] \"POST /knn-service HTTP/1.1\" 200 -\n",
      "INFO:werkzeug:127.0.0.1 - - [29/Mar/2024 11:56:51] \"POST /knn-service HTTP/1.1\" 200 -\n",
      "INFO:werkzeug:127.0.0.1 - - [29/Mar/2024 11:57:53] \"POST /knn-service HTTP/1.1\" 200 -\n",
      "INFO:werkzeug:127.0.0.1 - - [29/Mar/2024 11:58:38] \"POST /knn-service HTTP/1.1\" 200 -\n",
      "INFO:werkzeug:127.0.0.1 - - [29/Mar/2024 11:59:05] \"POST /knn-service HTTP/1.1\" 200 -\n",
      "INFO:werkzeug:127.0.0.1 - - [29/Mar/2024 12:00:22] \"POST /knn-service HTTP/1.1\" 200 -\n",
      "INFO:werkzeug:127.0.0.1 - - [29/Mar/2024 12:02:06] \"POST /knn-service HTTP/1.1\" 200 -\n",
      "INFO:werkzeug:127.0.0.1 - - [29/Mar/2024 12:02:46] \"POST /knn-service HTTP/1.1\" 200 -\n",
      "INFO:werkzeug:127.0.0.1 - - [29/Mar/2024 12:02:57] \"POST /knn-service HTTP/1.1\" 200 -\n",
      "INFO:werkzeug:127.0.0.1 - - [29/Mar/2024 12:04:22] \"POST /knn-service HTTP/1.1\" 200 -\n",
      "INFO:werkzeug:127.0.0.1 - - [29/Mar/2024 12:05:55] \"POST /knn-service HTTP/1.1\" 200 -\n"
     ]
    }
   ],
   "source": [
    "!clip-retrieval back --port 1234 --indices-paths indices.json --clip_model open_clip:ViT-B-32/laion2b_s34b_b79k"
   ]
  }
 ],
 "metadata": {
  "kernelspec": {
   "display_name": "Python 3 (ipykernel)",
   "language": "python",
   "name": "python3"
  },
  "language_info": {
   "codemirror_mode": {
    "name": "ipython",
    "version": 3
   },
   "file_extension": ".py",
   "mimetype": "text/x-python",
   "name": "python",
   "nbconvert_exporter": "python",
   "pygments_lexer": "ipython3",
   "version": "3.10.12"
  }
 },
 "nbformat": 4,
 "nbformat_minor": 5
}
